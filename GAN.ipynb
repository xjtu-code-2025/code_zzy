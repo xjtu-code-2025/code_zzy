{
 "cells": [
  {
   "cell_type": "code",
   "execution_count": 64,
   "id": "239146b3",
   "metadata": {},
   "outputs": [],
   "source": [
    "import torch\n",
    "import torchvision.datasets as datasets\n",
    "import torchvision.transforms as transforms\n",
    "from torch.utils.data import Dataset, DataLoader\n",
    "import torch.nn as nn\n",
    "from torch.optim import SGD\n",
    "import matplotlib.pyplot as plt\n",
    "import numpy as np\n",
    "from tqdm import tqdm"
   ]
  },
  {
   "cell_type": "code",
   "execution_count": null,
   "id": "ab6544a0",
   "metadata": {},
   "outputs": [
    {
     "name": "stderr",
     "output_type": "stream",
     "text": [
      "100%|██████████| 9.91M/9.91M [00:02<00:00, 3.94MB/s]\n",
      "100%|██████████| 28.9k/28.9k [00:00<00:00, 170kB/s]\n",
      "100%|██████████| 1.65M/1.65M [00:01<00:00, 1.07MB/s]\n",
      "100%|██████████| 4.54k/4.54k [00:00<00:00, 1.76MB/s]\n"
     ]
    }
   ],
   "source": [
    "dataset=datasets.MNIST(root=\"./data\", train=True,transform=transforms.ToTensor(), download=True)"
   ]
  },
  {
   "cell_type": "code",
   "execution_count": 6,
   "id": "5990fa28",
   "metadata": {},
   "outputs": [
    {
     "data": {
      "text/plain": [
       "torch.Size([1, 28, 28])"
      ]
     },
     "execution_count": 6,
     "metadata": {},
     "output_type": "execute_result"
    }
   ],
   "source": [
    "dataset.__len__()\n",
    "image,label=dataset[6]\n",
    "image.shape"
   ]
  },
  {
   "cell_type": "code",
   "execution_count": 7,
   "id": "d63a353d",
   "metadata": {},
   "outputs": [],
   "source": [
    "data_loader = torch.utils.data.DataLoader(dataset, batch_size=16, shuffle=True, num_workers=0)"
   ]
  },
  {
   "cell_type": "code",
   "execution_count": 42,
   "id": "ba3a23e9",
   "metadata": {},
   "outputs": [],
   "source": [
    "class Gen(nn.Module):\n",
    "    def __init__(self):\n",
    "        super(Gen, self).__init__()\n",
    "\n",
    "        self.generator =  nn.Sequential(\n",
    "            nn.Linear(16,32),\n",
    "            nn.ReLU(),\n",
    "            nn.Linear(32,32),\n",
    "            nn.ReLU(),\n",
    "            nn.Linear(32, 1*28*28)\n",
    "        )\n",
    "\n",
    "    def forward(self, x):\n",
    "        x = self.generator(x)\n",
    "        return x"
   ]
  },
  {
   "cell_type": "code",
   "execution_count": 43,
   "id": "4971a80a",
   "metadata": {},
   "outputs": [],
   "source": [
    "class Dis(nn.Module):\n",
    "    def __init__(self):\n",
    "        super(Dis, self).__init__()\n",
    "\n",
    "        self.discriminator = nn.Sequential(\n",
    "            nn.Linear(1*28*28, 64),\n",
    "            nn.ReLU(),\n",
    "            nn.Linear(64, 32),\n",
    "            nn.ReLU(),\n",
    "            nn.Linear(32, 2),\n",
    "            nn.Sigmoid()\n",
    "        )\n",
    "\n",
    "    def forward(self, x):\n",
    "        x = self.discriminator(x)\n",
    "        return x"
   ]
  },
  {
   "cell_type": "code",
   "execution_count": 44,
   "id": "44db8b1b",
   "metadata": {},
   "outputs": [],
   "source": [
    "gen=Gen()\n",
    "dis=Dis()"
   ]
  },
  {
   "cell_type": "code",
   "execution_count": 45,
   "id": "07938256",
   "metadata": {},
   "outputs": [
    {
     "data": {
      "text/plain": [
       "Dis(\n",
       "  (discriminator): Sequential(\n",
       "    (0): Linear(in_features=784, out_features=64, bias=True)\n",
       "    (1): ReLU()\n",
       "    (2): Linear(in_features=64, out_features=32, bias=True)\n",
       "    (3): ReLU()\n",
       "    (4): Linear(in_features=32, out_features=2, bias=True)\n",
       "    (5): Sigmoid()\n",
       "  )\n",
       ")"
      ]
     },
     "execution_count": 45,
     "metadata": {},
     "output_type": "execute_result"
    }
   ],
   "source": [
    "criterion = nn.CrossEntropyLoss()\n",
    "optimizer_gen = SGD(gen.parameters(), lr=0.001, momentum=0.9)\n",
    "optimizer_dis = SGD(dis.parameters(), lr=0.001, momentum=0.9)\n",
    "device = torch.device(\"cuda\" if torch.cuda.is_available() else \"cpu\")\n",
    "gen.to(device)\n",
    "dis.to(device)"
   ]
  },
  {
   "cell_type": "code",
   "execution_count": 60,
   "id": "b43e5f99",
   "metadata": {},
   "outputs": [
    {
     "data": {
      "text/plain": [
       "torch.Size([16, 2])"
      ]
     },
     "execution_count": 60,
     "metadata": {},
     "output_type": "execute_result"
    }
   ],
   "source": [
    "z = torch.empty(16,16).uniform_(-1, 1).to(device)\n",
    "output=dis(gen(z))\n",
    "output.shape\n",
    "# pic=output.view(16, 1, 28, 28)[0].cpu()\n",
    "# pic = np.transpose(pic.detach().numpy(), (1, 2, 0))\n",
    "# plt.imshow(pic)\n",
    "# plt.show()\n",
    "\n"
   ]
  },
  {
   "cell_type": "code",
   "execution_count": 93,
   "id": "924834ca",
   "metadata": {},
   "outputs": [],
   "source": [
    "def train(epoch):\n",
    "    total_dis_loss = []\n",
    "    total_gen_loss = []\n",
    "    for i in tqdm(range(epoch)):\n",
    "        epoch_dis_loss = 0\n",
    "        epoch_gen_loss = 0\n",
    "\n",
    "        for batch_idx, (inputs, _) in enumerate(data_loader):\n",
    "            inputs = inputs.to(device)\n",
    "            optimizer_gen.zero_grad()\n",
    "            optimizer_dis.zero_grad()\n",
    "            z = torch.empty(16,16).uniform_(-1, 1).to(device)\n",
    "\n",
    "            gen.eval()\n",
    "            dis.train()\n",
    "            pic = gen(z)\n",
    "            output=dis(pic)\n",
    "            # print(pic.shape)\n",
    "            # print(inputs.shape)\n",
    "            # dis(inputs)\n",
    "            loss_dis = criterion(output,torch.zeros(16).long().to(device))+criterion(dis(inputs.view(16,784)),torch.ones(16).long().to(device))\n",
    "            loss_dis.backward(retain_graph=True)\n",
    "            optimizer_dis.step()\n",
    "            \n",
    "            dis.eval()\n",
    "            gen.train()\n",
    "            loss_gen = criterion(dis(pic),torch.zeros(16).long().to(device))\n",
    "            loss_gen.backward()\n",
    "            optimizer_gen.step()\n",
    "\n",
    "\n",
    "            epoch_dis_loss += loss_dis.item()\n",
    "            epoch_gen_loss += loss_gen.item()\n",
    "\n",
    "        total_dis_loss.append(epoch_dis_loss)\n",
    "        total_gen_loss.append(epoch_gen_loss)\n",
    "\n",
    "        avg_dis_loss = epoch_dis_loss / len(data_loader)\n",
    "        avg_gen_loss = epoch_gen_loss / len(data_loader)\n",
    "        print(f\"Epoch:{i}: Avg_Dis_Loss:{avg_dis_loss}\\tAvg_Gen_Loss:{avg_gen_loss}\")\n"
   ]
  },
  {
   "cell_type": "code",
   "execution_count": 94,
   "id": "2718dd41",
   "metadata": {},
   "outputs": [
    {
     "name": "stderr",
     "output_type": "stream",
     "text": [
      " 10%|█         | 1/10 [00:52<07:54, 52.68s/it]"
     ]
    },
    {
     "name": "stdout",
     "output_type": "stream",
     "text": [
      "Epoch:0: Avg_Dis_Loss:0.7161501229127248\tAvg_Gen_Loss:0.3643086191733678\n"
     ]
    },
    {
     "name": "stderr",
     "output_type": "stream",
     "text": [
      " 20%|██        | 2/10 [01:43<06:53, 51.66s/it]"
     ]
    },
    {
     "name": "stdout",
     "output_type": "stream",
     "text": [
      "Epoch:1: Avg_Dis_Loss:0.6270994470755259\tAvg_Gen_Loss:0.3134431921005249\n"
     ]
    },
    {
     "name": "stderr",
     "output_type": "stream",
     "text": [
      " 30%|███       | 3/10 [02:33<05:56, 50.96s/it]"
     ]
    },
    {
     "name": "stdout",
     "output_type": "stream",
     "text": [
      "Epoch:2: Avg_Dis_Loss:0.6268102531592051\tAvg_Gen_Loss:0.31334409006436664\n"
     ]
    },
    {
     "name": "stderr",
     "output_type": "stream",
     "text": [
      " 40%|████      | 4/10 [03:24<05:04, 50.80s/it]"
     ]
    },
    {
     "name": "stdout",
     "output_type": "stream",
     "text": [
      "Epoch:3: Avg_Dis_Loss:0.6267115006446838\tAvg_Gen_Loss:0.31331324889659884\n"
     ]
    },
    {
     "name": "stderr",
     "output_type": "stream",
     "text": [
      " 50%|█████     | 5/10 [04:14<04:13, 50.60s/it]"
     ]
    },
    {
     "name": "stdout",
     "output_type": "stream",
     "text": [
      "Epoch:4: Avg_Dis_Loss:0.6266623365720113\tAvg_Gen_Loss:0.3132988071680069\n"
     ]
    },
    {
     "name": "stderr",
     "output_type": "stream",
     "text": [
      " 60%|██████    | 6/10 [05:04<03:21, 50.49s/it]"
     ]
    },
    {
     "name": "stdout",
     "output_type": "stream",
     "text": [
      "Epoch:5: Avg_Dis_Loss:0.6266327055295309\tAvg_Gen_Loss:0.3132901413679123\n"
     ]
    },
    {
     "name": "stderr",
     "output_type": "stream",
     "text": [
      " 70%|███████   | 7/10 [05:55<02:31, 50.59s/it]"
     ]
    },
    {
     "name": "stdout",
     "output_type": "stream",
     "text": [
      "Epoch:6: Avg_Dis_Loss:0.6266132087866465\tAvg_Gen_Loss:0.3132846513271332\n"
     ]
    },
    {
     "name": "stderr",
     "output_type": "stream",
     "text": [
      " 80%|████████  | 8/10 [06:41<01:38, 49.03s/it]"
     ]
    },
    {
     "name": "stdout",
     "output_type": "stream",
     "text": [
      "Epoch:7: Avg_Dis_Loss:0.6265993985017141\tAvg_Gen_Loss:0.31328082688649495\n"
     ]
    },
    {
     "name": "stderr",
     "output_type": "stream",
     "text": [
      " 90%|█████████ | 9/10 [07:23<00:46, 46.95s/it]"
     ]
    },
    {
     "name": "stdout",
     "output_type": "stream",
     "text": [
      "Epoch:8: Avg_Dis_Loss:0.6265891799767812\tAvg_Gen_Loss:0.31327807439963024\n"
     ]
    },
    {
     "name": "stderr",
     "output_type": "stream",
     "text": [
      "100%|██████████| 10/10 [08:09<00:00, 48.97s/it]"
     ]
    },
    {
     "name": "stdout",
     "output_type": "stream",
     "text": [
      "Epoch:9: Avg_Dis_Loss:0.626581254196167\tAvg_Gen_Loss:0.31327593733469644\n"
     ]
    },
    {
     "name": "stderr",
     "output_type": "stream",
     "text": [
      "\n"
     ]
    }
   ],
   "source": [
    "train(10)"
   ]
  },
  {
   "cell_type": "code",
   "execution_count": 99,
   "id": "d0462a3b",
   "metadata": {},
   "outputs": [
    {
     "data": {
      "image/png": "[encoded data removed]",
      "text/plain": [
       "<Figure size 640x480 with 1 Axes>"
      ]
     },
     "metadata": {},
     "output_type": "display_data"
    }
   ],
   "source": [
    "z = torch.empty(16).uniform_(-1, 1).to(device)\n",
    "output=gen(z)\n",
    "pic=output.view(1, 28, 28).cpu()\n",
    "pic = np.transpose(pic.detach().numpy(), (1, 2, 0))\n",
    "plt.imshow(pic)\n",
    "plt.show()"
   ]
  }
 ],
 "metadata": {
  "kernelspec": {
   "display_name": "py39",
   "language": "python",
   "name": "python3"
  },
  "language_info": {
   "codemirror_mode": {
    "name": "ipython",
    "version": 3
   },
   "file_extension": ".py",
   "mimetype": "text/x-python",
   "name": "python",
   "nbconvert_exporter": "python",
   "pygments_lexer": "ipython3",
   "version": "3.9.23"
  }
 },
 "nbformat": 4,
 "nbformat_minor": 5
}
